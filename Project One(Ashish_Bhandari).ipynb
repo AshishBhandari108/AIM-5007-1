{
 "cells": [
  {
   "cell_type": "markdown",
   "id": "21fce2dd",
   "metadata": {},
   "source": [
    "# 1. Build your own convolutional neural network using pytorch"
   ]
  },
  {
   "cell_type": "code",
   "execution_count": 1,
   "id": "31229b0f",
   "metadata": {},
   "outputs": [
    {
     "data": {
      "text/plain": [
       "<torch._C.Generator at 0x19e654928d0>"
      ]
     },
     "execution_count": 1,
     "metadata": {},
     "output_type": "execute_result"
    }
   ],
   "source": [
    "import os\n",
    "import torch\n",
    "import timm\n",
    "import torch.nn as nn\n",
    "import torch.optim as optim\n",
    "from torch.utils.data import DataLoader, Dataset\n",
    "from torchvision import datasets, transforms\n",
    "from PIL import Image\n",
    "import numpy as np\n",
    "import pandas as pd\n",
    "from sklearn.metrics import confusion_matrix, classification_report\n",
    "\n",
    "# Set device\n",
    "device = torch.device(\"cuda\" if torch.cuda.is_available() else \"cpu\")\n",
    "torch.manual_seed(42)\n"
   ]
  },
  {
   "cell_type": "code",
   "execution_count": 2,
   "id": "ea28a0e6",
   "metadata": {},
   "outputs": [],
   "source": [
    "root_path = \"D:/Neural_Networks/Project_1/Dog_X_ray/Dog_X_ray\"\n",
    "train_dir = os.path.join(root_path, \"Dog_heart\", \"Dog_heart\", \"Train\")\n",
    "valid_dir = os.path.join(root_path, \"Dog_heart\", \"Dog_heart\", \"Valid\")\n",
    "test_dir = os.path.join(root_path, \"Test\", \"Test\")\n"
   ]
  },
  {
   "cell_type": "code",
   "execution_count": 3,
   "id": "d390df76",
   "metadata": {},
   "outputs": [],
   "source": [
    "image_size = 224\n",
    "batch_size = 32\n",
    "mean_vals = [0.485, 0.456, 0.406]\n",
    "std_vals = [0.229, 0.224, 0.225]\n",
    "\n",
    "train_transforms = transforms.Compose([\n",
    "    transforms.RandomResizedCrop(image_size),\n",
    "    transforms.RandomHorizontalFlip(),\n",
    "    transforms.RandomRotation(15),\n",
    "    transforms.ColorJitter(brightness=0.2, contrast=0.2),\n",
    "    transforms.ToTensor(),\n",
    "    transforms.Normalize(mean_vals, std_vals)\n",
    "])\n",
    "\n",
    "eval_transforms = transforms.Compose([\n",
    "    transforms.Resize((image_size, image_size)),\n",
    "    transforms.ToTensor(),\n",
    "    transforms.Normalize(mean_vals, std_vals)\n",
    "])\n",
    "\n",
    "train_dataset = datasets.ImageFolder(train_dir, transform=train_transforms)\n",
    "valid_dataset = datasets.ImageFolder(valid_dir, transform=eval_transforms)\n",
    "train_loader = DataLoader(train_dataset, batch_size=batch_size, shuffle=True, num_workers=2)\n",
    "valid_loader = DataLoader(valid_dataset, batch_size=batch_size, shuffle=False, num_workers=2)\n",
    "\n",
    "class_names = train_dataset.classes\n",
    "num_classes = len(class_names)\n"
   ]
  },
  {
   "cell_type": "code",
   "execution_count": 4,
   "id": "08da2105",
   "metadata": {},
   "outputs": [],
   "source": [
    "class DogTestDataset(Dataset):\n",
    "    def __init__(self, test_dir, transform=None):\n",
    "        self.image_paths = [os.path.join(test_dir, f) for f in os.listdir(test_dir) if f.endswith('.png')]\n",
    "        self.transform = transform\n",
    "\n",
    "    def __len__(self):\n",
    "        return len(self.image_paths)\n",
    "\n",
    "    def __getitem__(self, idx):\n",
    "        path = self.image_paths[idx]\n",
    "        image = Image.open(path).convert(\"RGB\")\n",
    "        if self.transform:\n",
    "            image = self.transform(image)\n",
    "        return image, os.path.basename(path)\n",
    "\n",
    "test_dataset = DogTestDataset(test_dir, transform=eval_transforms)\n",
    "test_loader = DataLoader(test_dataset, batch_size=1, shuffle=False)\n"
   ]
  },
  {
   "cell_type": "code",
   "execution_count": 5,
   "id": "67287ea5",
   "metadata": {},
   "outputs": [
    {
     "data": {
      "application/vnd.jupyter.widget-view+json": {
       "model_id": "c53647ae84184986bb93e2e7fd131ef8",
       "version_major": 2,
       "version_minor": 0
      },
      "text/plain": [
       "Downloading model.safetensors:   0%|          | 0.00/21.4M [00:00<?, ?B/s]"
      ]
     },
     "metadata": {},
     "output_type": "display_data"
    },
    {
     "name": "stderr",
     "output_type": "stream",
     "text": [
      "C:\\Users\\Ashish Bhandari\\anaconda3\\Lib\\site-packages\\huggingface_hub\\file_download.py:133: UserWarning: `huggingface_hub` cache-system uses symlinks by default to efficiently store duplicated files but your machine does not support them in C:\\Users\\Ashish Bhandari\\.cache\\huggingface\\hub. Caching files will still work but in a degraded version that might require more space on your disk. This warning can be disabled by setting the `HF_HUB_DISABLE_SYMLINKS_WARNING` environment variable. For more details, see https://huggingface.co/docs/huggingface_hub/how-to-cache#limitations.\n",
      "To support symlinks on Windows, you either need to activate Developer Mode or to run Python as an administrator. In order to see activate developer mode, see this article: https://docs.microsoft.com/en-us/windows/apps/get-started/enable-your-device-for-development\n",
      "  warnings.warn(message)\n"
     ]
    }
   ],
   "source": [
    "# Use timm to load a pretrained EfficientNetB0 and fine-tune it\n",
    "class EfficientNetDogHeart(nn.Module):\n",
    "    def __init__(self, num_classes):\n",
    "        super(EfficientNetDogHeart, self).__init__()\n",
    "        self.base = timm.create_model('efficientnet_b0', pretrained=True)\n",
    "        self.base.classifier = nn.Sequential(\n",
    "            nn.Linear(self.base.classifier.in_features, 256),\n",
    "            nn.ReLU(),\n",
    "            nn.Dropout(0.5),\n",
    "            nn.Linear(256, num_classes)\n",
    "        )\n",
    "\n",
    "    def forward(self, x):\n",
    "        return self.base(x)\n",
    "\n",
    "model = EfficientNetDogHeart(num_classes=num_classes).to(device)\n"
   ]
  },
  {
   "cell_type": "markdown",
   "id": "6a75cf12",
   "metadata": {},
   "source": [
    "# 2. Train your model using dog heart dataset"
   ]
  },
  {
   "cell_type": "code",
   "execution_count": 6,
   "id": "812c5000",
   "metadata": {},
   "outputs": [],
   "source": [
    "def train_model(model, train_loader, valid_loader, num_epochs=40):\n",
    "    loss_fn = nn.CrossEntropyLoss()\n",
    "    optimizer = optim.AdamW(model.parameters(), lr=3e-4, weight_decay=1e-4)\n",
    "    scheduler = optim.lr_scheduler.StepLR(optimizer, step_size=10, gamma=0.5)\n",
    "\n",
    "    best_accuracy = 0.0\n",
    "    best_model_state = None\n",
    "\n",
    "    for epoch in range(num_epochs):\n",
    "        model.train()\n",
    "        train_loss, train_correct, total_train = 0, 0, 0\n",
    "\n",
    "        for images, labels in train_loader:\n",
    "            images, labels = images.to(device), labels.to(device)\n",
    "\n",
    "            optimizer.zero_grad()\n",
    "            outputs = model(images)\n",
    "            loss = loss_fn(outputs, labels)\n",
    "            loss.backward()\n",
    "            optimizer.step()\n",
    "\n",
    "            train_loss += loss.item() * images.size(0)\n",
    "            _, preds = torch.max(outputs, 1)\n",
    "            train_correct += (preds == labels).sum().item()\n",
    "            total_train += labels.size(0)\n",
    "\n",
    "        train_acc = train_correct / total_train\n",
    "        avg_train_loss = train_loss / total_train\n",
    "\n",
    "        # Validation\n",
    "        model.eval()\n",
    "        val_loss, val_correct, total_val = 0, 0, 0\n",
    "        with torch.no_grad():\n",
    "            for images, labels in valid_loader:\n",
    "                images, labels = images.to(device), labels.to(device)\n",
    "                outputs = model(images)\n",
    "                loss = loss_fn(outputs, labels)\n",
    "\n",
    "                val_loss += loss.item() * images.size(0)\n",
    "                _, preds = torch.max(outputs, 1)\n",
    "                val_correct += (preds == labels).sum().item()\n",
    "                total_val += labels.size(0)\n",
    "\n",
    "        val_acc = val_correct / total_val\n",
    "        avg_val_loss = val_loss / total_val\n",
    "        scheduler.step()\n",
    "\n",
    "        print(f\"Epoch {epoch+1}/{num_epochs} | \"\n",
    "              f\"Train Loss: {avg_train_loss:.4f} | Train Acc: {train_acc:.4f} | \"\n",
    "              f\"Val Loss: {avg_val_loss:.4f} | Val Acc: {val_acc:.4f}\")\n",
    "\n",
    "        if val_acc > best_accuracy:\n",
    "            best_accuracy = val_acc\n",
    "            best_model_state = model.state_dict()\n",
    "\n",
    "    print(f\"\\nBest Validation Accuracy: {best_accuracy:.4f}\")\n",
    "    return best_model_state\n"
   ]
  },
  {
   "cell_type": "code",
   "execution_count": 7,
   "id": "88b68354",
   "metadata": {},
   "outputs": [
    {
     "name": "stdout",
     "output_type": "stream",
     "text": [
      "Epoch 1/40 | Train Loss: 0.8603 | Train Acc: 0.5264 | Val Loss: 0.9082 | Val Acc: 0.4850\n",
      "Epoch 2/40 | Train Loss: 0.7357 | Train Acc: 0.6050 | Val Loss: 0.7686 | Val Acc: 0.6450\n",
      "Epoch 3/40 | Train Loss: 0.6986 | Train Acc: 0.6543 | Val Loss: 0.6705 | Val Acc: 0.6950\n",
      "Epoch 4/40 | Train Loss: 0.6440 | Train Acc: 0.6836 | Val Loss: 0.6968 | Val Acc: 0.6100\n",
      "Epoch 5/40 | Train Loss: 0.6081 | Train Acc: 0.7086 | Val Loss: 0.6337 | Val Acc: 0.6900\n",
      "Epoch 6/40 | Train Loss: 0.5789 | Train Acc: 0.7271 | Val Loss: 0.6411 | Val Acc: 0.6950\n",
      "Epoch 7/40 | Train Loss: 0.5500 | Train Acc: 0.7400 | Val Loss: 0.7521 | Val Acc: 0.6500\n",
      "Epoch 8/40 | Train Loss: 0.5691 | Train Acc: 0.7221 | Val Loss: 0.6731 | Val Acc: 0.6550\n",
      "Epoch 9/40 | Train Loss: 0.5472 | Train Acc: 0.7371 | Val Loss: 0.7799 | Val Acc: 0.6300\n",
      "Epoch 10/40 | Train Loss: 0.5360 | Train Acc: 0.7314 | Val Loss: 0.8481 | Val Acc: 0.6600\n",
      "Epoch 11/40 | Train Loss: 0.4930 | Train Acc: 0.7743 | Val Loss: 0.9270 | Val Acc: 0.6400\n",
      "Epoch 12/40 | Train Loss: 0.4488 | Train Acc: 0.7893 | Val Loss: 1.0617 | Val Acc: 0.5900\n",
      "Epoch 13/40 | Train Loss: 0.4172 | Train Acc: 0.8171 | Val Loss: 0.7288 | Val Acc: 0.7050\n",
      "Epoch 14/40 | Train Loss: 0.4041 | Train Acc: 0.8157 | Val Loss: 0.7444 | Val Acc: 0.7000\n",
      "Epoch 15/40 | Train Loss: 0.3756 | Train Acc: 0.8321 | Val Loss: 0.8852 | Val Acc: 0.6900\n",
      "Epoch 16/40 | Train Loss: 0.4257 | Train Acc: 0.8079 | Val Loss: 0.7686 | Val Acc: 0.6750\n",
      "Epoch 17/40 | Train Loss: 0.3748 | Train Acc: 0.8243 | Val Loss: 0.8131 | Val Acc: 0.7400\n",
      "Epoch 18/40 | Train Loss: 0.3664 | Train Acc: 0.8271 | Val Loss: 0.7684 | Val Acc: 0.7200\n",
      "Epoch 19/40 | Train Loss: 0.3618 | Train Acc: 0.8479 | Val Loss: 0.8224 | Val Acc: 0.7400\n",
      "Epoch 20/40 | Train Loss: 0.3972 | Train Acc: 0.8171 | Val Loss: 0.7979 | Val Acc: 0.6800\n",
      "Epoch 21/40 | Train Loss: 0.3547 | Train Acc: 0.8429 | Val Loss: 0.7432 | Val Acc: 0.7100\n",
      "Epoch 22/40 | Train Loss: 0.3312 | Train Acc: 0.8443 | Val Loss: 0.7004 | Val Acc: 0.7150\n",
      "Epoch 23/40 | Train Loss: 0.3023 | Train Acc: 0.8743 | Val Loss: 0.7405 | Val Acc: 0.7250\n",
      "Epoch 24/40 | Train Loss: 0.2799 | Train Acc: 0.8736 | Val Loss: 0.7614 | Val Acc: 0.7150\n",
      "Epoch 25/40 | Train Loss: 0.2881 | Train Acc: 0.8786 | Val Loss: 0.7602 | Val Acc: 0.7450\n",
      "Epoch 26/40 | Train Loss: 0.3020 | Train Acc: 0.8664 | Val Loss: 0.8198 | Val Acc: 0.7200\n",
      "Epoch 27/40 | Train Loss: 0.2707 | Train Acc: 0.8850 | Val Loss: 0.8515 | Val Acc: 0.7100\n",
      "Epoch 28/40 | Train Loss: 0.2720 | Train Acc: 0.8779 | Val Loss: 0.8772 | Val Acc: 0.7400\n",
      "Epoch 29/40 | Train Loss: 0.2732 | Train Acc: 0.8779 | Val Loss: 0.8619 | Val Acc: 0.7200\n",
      "Epoch 30/40 | Train Loss: 0.2485 | Train Acc: 0.8936 | Val Loss: 0.8240 | Val Acc: 0.7150\n",
      "Epoch 31/40 | Train Loss: 0.2442 | Train Acc: 0.8993 | Val Loss: 0.8367 | Val Acc: 0.7200\n",
      "Epoch 32/40 | Train Loss: 0.2627 | Train Acc: 0.8800 | Val Loss: 0.9679 | Val Acc: 0.7000\n",
      "Epoch 33/40 | Train Loss: 0.2337 | Train Acc: 0.8986 | Val Loss: 0.8769 | Val Acc: 0.7300\n",
      "Epoch 34/40 | Train Loss: 0.2392 | Train Acc: 0.8993 | Val Loss: 0.9333 | Val Acc: 0.7300\n",
      "Epoch 35/40 | Train Loss: 0.2309 | Train Acc: 0.8943 | Val Loss: 0.8998 | Val Acc: 0.7200\n",
      "Epoch 36/40 | Train Loss: 0.2416 | Train Acc: 0.8929 | Val Loss: 0.9953 | Val Acc: 0.6950\n",
      "Epoch 37/40 | Train Loss: 0.2482 | Train Acc: 0.8950 | Val Loss: 0.9481 | Val Acc: 0.6950\n",
      "Epoch 38/40 | Train Loss: 0.2307 | Train Acc: 0.8929 | Val Loss: 0.9338 | Val Acc: 0.7100\n",
      "Epoch 39/40 | Train Loss: 0.2222 | Train Acc: 0.9050 | Val Loss: 1.0125 | Val Acc: 0.7000\n",
      "Epoch 40/40 | Train Loss: 0.2153 | Train Acc: 0.9036 | Val Loss: 0.9835 | Val Acc: 0.7400\n",
      "\n",
      "Best Validation Accuracy: 0.7450\n"
     ]
    },
    {
     "data": {
      "text/plain": [
       "<All keys matched successfully>"
      ]
     },
     "execution_count": 7,
     "metadata": {},
     "output_type": "execute_result"
    }
   ],
   "source": [
    "# Train and load the best model\n",
    "best_weights = train_model(model, train_loader, valid_loader, num_epochs=40)\n",
    "model.load_state_dict(best_weights)\n"
   ]
  },
  {
   "cell_type": "code",
   "execution_count": 10,
   "id": "9ccc1b16",
   "metadata": {},
   "outputs": [
    {
     "name": "stdout",
     "output_type": "stream",
     "text": [
      "Model successfully saved to: efficientnetb0_dogheart_model.pt\n"
     ]
    }
   ],
   "source": [
    "# Define a path and filename to save the model\n",
    "save_path = \"efficientnetb0_dogheart_model.pt\"\n",
    "\n",
    "# Save the model's state_dict (recommended format for PyTorch)\n",
    "torch.save(model.state_dict(), save_path)\n",
    "\n",
    "print(f\"Model successfully saved to: {save_path}\")\n"
   ]
  },
  {
   "cell_type": "code",
   "execution_count": 8,
   "id": "4ef95fe6",
   "metadata": {},
   "outputs": [
    {
     "name": "stdout",
     "output_type": "stream",
     "text": [
      "Saved predictions to submission.csv\n"
     ]
    }
   ],
   "source": [
    "# Run inference and generate submission file\n",
    "model.eval()\n",
    "predictions = []\n",
    "\n",
    "with torch.no_grad():\n",
    "    for images, filenames in test_loader:\n",
    "        images = images.to(device)\n",
    "        outputs = model(images)\n",
    "        _, predicted = torch.max(outputs, 1)\n",
    "        predictions.append((filenames[0], predicted.item()))\n",
    "\n",
    "# Save as CSV \n",
    "with open(\"submission.csv\", \"w\") as f:\n",
    "    for filename, label in predictions:\n",
    "        f.write(f\"{filename},{label}\\n\")\n",
    "\n",
    "print(\"Saved predictions to submission.csv\")\n"
   ]
  },
  {
   "cell_type": "markdown",
   "id": "9f58e3ac",
   "metadata": {},
   "source": [
    "# 3. Evaluate your model using the developed software"
   ]
  },
  {
   "attachments": {
    "Capture1.PNG": {
     "image/png": "[encoded data removed]"
    }
   },
   "cell_type": "markdown",
   "id": "e64d8f2a",
   "metadata": {},
   "source": [
    "![Capture1.PNG](attachment:Capture1.PNG)"
   ]
  },
  {
   "cell_type": "markdown",
   "id": "62164e8c",
   "metadata": {},
   "source": [
    "# 4. Compare results with [RVT paper](https://www.nature.com/articles/s41598-023-50063-x). Requirement: performance is better than VGG16: 75%"
   ]
  },
  {
   "cell_type": "markdown",
   "id": "1eb9359f",
   "metadata": {},
   "source": [
    "One of the central requirements of this project was to evaluate the performance of the developed deep learning model against a known baseline presented in the research paper titled *\"Regressive Vision Transformer for Dog Cardiomegaly Evaluation in Radiography.\"* This paper introduced a novel model known as RVT and tested its performance—alongside other established architectures—on the DogHeart dataset. Among these, the VGG16 model served as a standard reference point for comparison.\n",
    "\n",
    "The DogHeart dataset used in the RVT paper is identical to the one employed in this project. It comprises X-ray images of canine hearts, categorized into three classes: *Small*, *Normal*, and *Large*, based on measurements derived from the vertebral heart scale. The goal for each model was to classify these categories accurately, using both training and unseen test data for evaluation.\n",
    "\n",
    "According to the RVT paper, the VGG16 model achieved:\n",
    "- A **validation accuracy of 78.5%**\n",
    "- A **test accuracy of 75.0%**\n",
    "\n",
    "This project required the final model to exceed the VGG16 test accuracy of 75.0%. After training and evaluation, the model developed in this work—based on the EfficientNet-B0 architecture—achieved:\n",
    "- A **validation accuracy of 74.5%**\n",
    "- A **test accuracy of 75.5%**, as verified using the official evaluation tool\n",
    "\n",
    "While the validation accuracy was slightly lower than that of the VGG16 benchmark, the test accuracy exceeded the required threshold. Since the project defined success based on test performance, the model meets the core criterion by delivering a higher accuracy on unseen data.\n",
    "\n",
    "This comparison not only confirms the model’s effectiveness but also highlights its efficiency. Although more complex models like RVT reported higher accuracy in the paper, the goal of this project was not to surpass the RVT model itself, but to build a reliable and efficient model capable of outperforming VGG16. That objective has been achieved.\n",
    "\n",
    "In conclusion, the comparison with the RVT paper demonstrates that the model developed in this project satisfies the performance requirement. It achieves a higher test accuracy than the VGG16 baseline and confirms that the chosen approach is suitable for solving the problem of canine heart size classification using radiographic data.\n"
   ]
  },
  {
   "cell_type": "markdown",
   "id": "9071bc4d",
   "metadata": {},
   "source": [
    "# 5. Write a four-page paper report using the shared LaTex template. Upload your paper to ResearchGate or Arxiv, and put your paper link and GitHub weight link here."
   ]
  },
  {
   "cell_type": "markdown",
   "id": "923fd3ee",
   "metadata": {},
   "source": [
    "### Report Link\n",
    "[Deep Learning on Canine Thoracic X-Rays: Building a Classification Project with EfficientNet-B0](https://www.researchgate.net/publication/390179025_Deep_Learning_on_Canine_Thoracic_X-Rays_Building_a_Classification_Project_with_EfficientNet-B0)\n"
   ]
  },
  {
   "cell_type": "code",
   "execution_count": null,
   "id": "6d4686ca",
   "metadata": {},
   "outputs": [],
   "source": []
  }
 ],
 "metadata": {
  "kernelspec": {
   "display_name": "Python 3 (ipykernel)",
   "language": "python",
   "name": "python3"
  },
  "language_info": {
   "codemirror_mode": {
    "name": "ipython",
    "version": 3
   },
   "file_extension": ".py",
   "mimetype": "text/x-python",
   "name": "python",
   "nbconvert_exporter": "python",
   "pygments_lexer": "ipython3",
   "version": "3.11.5"
  }
 },
 "nbformat": 4,
 "nbformat_minor": 5
}
